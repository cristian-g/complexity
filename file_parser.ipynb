{
 "cells": [
  {
   "cell_type": "code",
   "execution_count": 26,
   "metadata": {},
   "outputs": [],
   "source": [
    "import os\n",
    "import re\n",
    "import networkx as nx\n",
    "import numpy as np\n",
    "import matplotlib.pyplot as plt\n",
    "from matplotlib.pyplot import figure\n",
    "import random\n",
    "from networkx.drawing.nx_agraph import graphviz_layout\n",
    "from scipy.spatial.distance import squareform"
   ]
  },
  {
   "cell_type": "code",
   "execution_count": 27,
   "metadata": {},
   "outputs": [],
   "source": [
    "class Person:\n",
    "    def __init__(self, id, name, partner, father, mother):\n",
    "        self.id = id\n",
    "        self.name = name\n",
    "        self.partner = partner\n",
    "        self.father = father\n",
    "        self.mother = mother\n",
    "    def __str__(self):\n",
    "        if self.mother != None:\n",
    "            return self.id + ', ' + self.name + ', ' + \" \".join(str(x) for x in self.partner) + ', ' + self.father + ', ' + self.mother\n",
    "        else:\n",
    "            return self.id + ', ' + self.name + ', ' + \" \".join(str(x) for x in self.partner)"
   ]
  },
  {
   "cell_type": "code",
   "execution_count": 28,
   "metadata": {},
   "outputs": [],
   "source": [
    "for filename in os.listdir():\n",
    "    if '.csv' not in filename:\n",
    "        continue\n",
    "    file = open(filename,'r')\n",
    "    \n",
    "    #Header\n",
    "    file.readline()\n",
    "    \n",
    "    #Array to store family members\n",
    "    members = []\n",
    "    \n",
    "    for line in file:\n",
    "        line = line.rstrip()\n",
    "        if line:\n",
    "            \n",
    "            #Row (family member)\n",
    "            parameters = re.split(r';', line)\n",
    "            \n",
    "            #They can have more than one partner (married more than once)\n",
    "            partners = [] \n",
    "            if not parameters[2] == '':\n",
    "                for p in parameters[2].split(','):\n",
    "                    partners.append(p)\n",
    "            \n",
    "            #We don't have father nor mother\n",
    "            if parameters[3] == '' and parameters[4] == '':\n",
    "                members.append(Person(parameters[0],parameters[1],partners,None,None))\n",
    "            else:\n",
    "                members.append(Person(parameters[0],parameters[1],partners,parameters[3],parameters[4]))                           "
   ]
  },
  {
   "cell_type": "code",
   "execution_count": 29,
   "metadata": {},
   "outputs": [],
   "source": [
    "def draw_tree(G):\n",
    "    figure(num=None, figsize=(24, 18), dpi=100, facecolor='w', edgecolor='k')\n",
    "    \n",
    "    edges = G.edges()\n",
    "    colors = [G[u][v]['color'] for u,v in edges]\n",
    "\n",
    "    pos=graphviz_layout(G, prog='dot')\n",
    "    nx.draw(G, pos, edge_color=colors, with_labels = True)\n",
    "    plt.savefig('images/family_tree.png')"
   ]
  },
  {
   "cell_type": "code",
   "execution_count": 45,
   "metadata": {},
   "outputs": [],
   "source": [
    "def find_root_node(G):\n",
    "    root = ''\n",
    "    for node in G.nodes():\n",
    "        degree = G.in_degree(node)\n",
    "        if degree == 1:\n",
    "            partner,node = list(G.in_edges(node))[0]\n",
    "            if G.in_degree(partner) == 1:\n",
    "                root = node\n",
    "                return root\n",
    "    "
   ]
  },
  {
   "cell_type": "code",
   "execution_count": 46,
   "metadata": {},
   "outputs": [],
   "source": [
    "G = nx.DiGraph()\n",
    "\n",
    "#We add all the members to the network\n",
    "for mem in members:\n",
    "    G.add_node(mem.id)\n",
    "    \n",
    "#We add all partner associations\n",
    "for mem in members:\n",
    "    partners = mem.partner\n",
    "    for p in partners:\n",
    "        G.add_edge(mem.id,p,color='green')\n",
    "\n",
    "#We add all the siblings associations\n",
    "for mem in members:\n",
    "    if mem.mother != None:\n",
    "        G.add_edge(mem.mother,mem.id,color='blue')\n",
    "        G.add_edge(mem.father,mem.id,color='blue')\n",
    "\n",
    "#draw_tree(G)"
   ]
  },
  {
   "cell_type": "code",
   "execution_count": 56,
   "metadata": {},
   "outputs": [
    {
     "data": {
      "image/png": "[encoded data removed]",
      "text/plain": [
       "<Figure size 432x288 with 1 Axes>"
      ]
     },
     "metadata": {
      "needs_background": "light"
     },
     "output_type": "display_data"
    },
    {
     "data": {
      "image/png": "[encoded data removed]",
      "text/plain": [
       "<Figure size 432x288 with 1 Axes>"
      ]
     },
     "metadata": {
      "needs_background": "light"
     },
     "output_type": "display_data"
    }
   ],
   "source": [
    "#2\n",
    "#Transform graph to a matrix\n",
    "A = nx.to_numpy_matrix(G)\n",
    "#Undirected\n",
    "A = A + A.transpose()\n",
    "#Binarize\n",
    "A = (A != 0) * 1\n",
    "#Display adjancency matrix\n",
    "plt.imshow(A)\n",
    "plt.savefig('images/adj_matrix.png')\n",
    "plt.show()\n",
    "\n",
    "#Plot degree distribution\n",
    "plt.hist(np.sum(A,axis=1))\n",
    "plt.xlabel('Node degree')\n",
    "plt.ylabel('Number of nodes')\n",
    "plt.title('Node degree histogram')\n",
    "plt.savefig('images/degree_histogram.png')\n",
    "plt.show()\n",
    "\n",
    "if 1 < 0:\n",
    "    #We analize how network efficiency is affected by\n",
    "    #Removing randomly 10 nodes.\n",
    "    #We do it 10 times\n",
    "    for t in range(0,10):\n",
    "        G_c = G.copy()\n",
    "        efficiency = []\n",
    "        efficiency.append(nx.global_efficiency(G_c))\n",
    "\n",
    "        for r in range(0,10):\n",
    "            node_to_remove = random.randint(1,len(G_c.nodes()))\n",
    "            G_c.remove_node(list(G_c.nodes())[node_to_remove - 1])\n",
    "            efficiency.append(nx.global_efficiency(G_c))\n",
    "\n",
    "        plt.plot(efficiency,'--')\n",
    "\n",
    "    #We now analize how network efficiency is affected by\n",
    "    #Removing nodes ordered from highest to lowest degree\n",
    "\n",
    "    degree = []\n",
    "\n",
    "    for node in G.nodes():\n",
    "        degree.append(tuple((node,G.degree(node))))\n",
    "\n",
    "    degree = sorted(degree,reverse=True, key=lambda tup: tup[1])\n",
    "\n",
    "    G_c = G.copy()\n",
    "    efficiency = []\n",
    "    efficiency.append(nx.global_efficiency(G_c))\n",
    "    for n in range(0,10):\n",
    "        G_c.remove_node(degree[n][0])\n",
    "        efficiency.append(nx.global_efficiency(G_c))\n",
    "    plt.plot(efficiency,'r')\n",
    "\n",
    "    plt.ylabel('Network Efficiency')\n",
    "    plt.xlabel('Iteration')\n",
    "    plt.savefig('images/exercice2.png')\n",
    "    plt.show()\n"
   ]
  },
  {
   "cell_type": "code",
   "execution_count": 77,
   "metadata": {},
   "outputs": [
    {
     "data": {
      "image/png": "[encoded data removed]",
      "text/plain": [
       "<Figure size 432x288 with 1 Axes>"
      ]
     },
     "metadata": {
      "needs_background": "light"
     },
     "output_type": "display_data"
    }
   ],
   "source": [
    "root = find_root_node(G)\n",
    "level = np.zeros((len(G.nodes)),dtype=int)\n",
    "\n",
    "def get_node_level(G,node,aux,l):\n",
    "    if (aux == None): \n",
    "        return 0\n",
    "    \n",
    "    if node == aux:\n",
    "        return l\n",
    "    r = 0\n",
    "    for edge in G.edges(aux):\n",
    "            n1, n2 = edge\n",
    "            color = G[n1][n2]['color']\n",
    "            if aux == n1:\n",
    "                dest = n2\n",
    "            else:\n",
    "                dest = n1\n",
    "            if color == 'green':\n",
    "                if node == dest:\n",
    "                    return l\n",
    "                continue\n",
    "            r += get_node_level(G,node,dest,l + 1)\n",
    "            \n",
    "    return r\n",
    "\n",
    "j = 0\n",
    "for node in G.nodes():\n",
    "    ret = get_node_level(G,node,root,1)\n",
    "    level[j] = ret\n",
    "    j += 1\n",
    "    \n",
    "for j in range (0,len(level)):\n",
    "    level[j] = max(level) + 1 - level[j]\n",
    "    \n",
    "plt.hist(level)\n",
    "plt.ylabel('Number of nodes')\n",
    "plt.xlabel('Node level')\n",
    "plt.title('Node level histogram')\n",
    "plt.savefig('images/exercice3.png')\n",
    "plt.show()\n",
    "            "
   ]
  },
  {
   "cell_type": "code",
   "execution_count": null,
   "metadata": {},
   "outputs": [],
   "source": []
  },
  {
   "cell_type": "code",
   "execution_count": null,
   "metadata": {},
   "outputs": [],
   "source": []
  }
 ],
 "metadata": {
  "kernelspec": {
   "display_name": "Python 3",
   "language": "python",
   "name": "python3"
  },
  "language_info": {
   "codemirror_mode": {
    "name": "ipython",
    "version": 3
   },
   "file_extension": ".py",
   "mimetype": "text/x-python",
   "name": "python",
   "nbconvert_exporter": "python",
   "pygments_lexer": "ipython3",
   "version": "3.7.0"
  }
 },
 "nbformat": 4,
 "nbformat_minor": 2
}
